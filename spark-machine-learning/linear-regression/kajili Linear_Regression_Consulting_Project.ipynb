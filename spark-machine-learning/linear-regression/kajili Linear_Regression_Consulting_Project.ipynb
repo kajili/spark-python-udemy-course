{
 "cells": [
  {
   "cell_type": "markdown",
   "metadata": {},
   "source": [
    "# Linear Regression Consulting Project"
   ]
  },
  {
   "cell_type": "markdown",
   "metadata": {},
   "source": [
    "Congratulations! You've been contracted by Hyundai Heavy Industries to help them build a predictive model for some ships. [Hyundai Heavy Industries](http://www.hyundai.eu/en) is one of the world's largest ship manufacturing companies and builds cruise liners.\n",
    "\n",
    "You've been flown to their headquarters in Ulsan, South Korea to help them give accurate estimates of how many crew members a ship will require.\n",
    "\n",
    "They are currently building new ships for some customers and want you to create a model and use it to predict how many crew members the ships will need.\n",
    "\n",
    "Here is what the data looks like so far:\n",
    "\n",
    "    Description: Measurements of ship size, capacity, crew, and age for 158 cruise\n",
    "    ships.\n",
    "\n",
    "\n",
    "    Variables/Columns\n",
    "    Ship Name     1-20\n",
    "    Cruise Line   21-40\n",
    "    Age (as of 2013)   46-48\n",
    "    Tonnage (1000s of tons)   50-56\n",
    "    passengers (100s)   58-64\n",
    "    Length (100s of feet)  66-72\n",
    "    Cabins  (100s)   74-80\n",
    "    Passenger Density   82-88\n",
    "    Crew  (100s)   90-96\n",
    "    \n",
    "It is saved in a csv file for you called \"cruise_ship_info.csv\". Your job is to create a regression model that will help predict how many crew members will be needed for future ships. The client also mentioned that they have found that particular cruise lines will differ in acceptable crew counts, so it is most likely an important feature to include in your analysis! \n",
    "\n",
    "Once you've created the model and tested it for a quick check on how well you can expect it to perform, make sure you take a look at why it performs so well!"
   ]
  },
  {
   "cell_type": "code",
   "execution_count": null,
   "metadata": {},
   "outputs": [],
   "source": [
    "import findspark\n",
    "findspark.init('/home/kajili/spark-2.4.5-bin-hadoop2.7')"
   ]
  },
  {
   "cell_type": "code",
   "execution_count": 2,
   "metadata": {},
   "outputs": [],
   "source": [
    "from pyspark.sql import SparkSession"
   ]
  },
  {
   "cell_type": "code",
   "execution_count": 3,
   "metadata": {},
   "outputs": [],
   "source": [
    "spark = SparkSession.builder.appName('lr_consulting_project').getOrCreate()"
   ]
  },
  {
   "cell_type": "code",
   "execution_count": 4,
   "metadata": {},
   "outputs": [],
   "source": [
    "from pyspark.ml.regression import LinearRegression"
   ]
  },
  {
   "cell_type": "code",
   "execution_count": 5,
   "metadata": {},
   "outputs": [],
   "source": [
    "# Create the raw data DataFrame from the csv file\n",
    "data = spark.read.csv('cruise_ship_info.csv',inferSchema=True, header=True)"
   ]
  },
  {
   "cell_type": "code",
   "execution_count": 6,
   "metadata": {},
   "outputs": [
    {
     "name": "stdout",
     "output_type": "stream",
     "text": [
      "+-----------+-----------+---+------------------+----------+------+------+-----------------+----+\n",
      "|  Ship_name|Cruise_line|Age|           Tonnage|passengers|length|cabins|passenger_density|crew|\n",
      "+-----------+-----------+---+------------------+----------+------+------+-----------------+----+\n",
      "|    Journey|    Azamara|  6|30.276999999999997|      6.94|  5.94|  3.55|            42.64|3.55|\n",
      "|      Quest|    Azamara|  6|30.276999999999997|      6.94|  5.94|  3.55|            42.64|3.55|\n",
      "|Celebration|   Carnival| 26|            47.262|     14.86|  7.22|  7.43|             31.8| 6.7|\n",
      "|   Conquest|   Carnival| 11|             110.0|     29.74|  9.53| 14.88|            36.99|19.1|\n",
      "|    Destiny|   Carnival| 17|           101.353|     26.42|  8.92| 13.21|            38.36|10.0|\n",
      "|    Ecstasy|   Carnival| 22|            70.367|     20.52|  8.55|  10.2|            34.29| 9.2|\n",
      "|    Elation|   Carnival| 15|            70.367|     20.52|  8.55|  10.2|            34.29| 9.2|\n",
      "|    Fantasy|   Carnival| 23|            70.367|     20.56|  8.55| 10.22|            34.23| 9.2|\n",
      "|Fascination|   Carnival| 19|            70.367|     20.52|  8.55|  10.2|            34.29| 9.2|\n",
      "|    Freedom|   Carnival|  6|110.23899999999999|      37.0|  9.51| 14.87|            29.79|11.5|\n",
      "|      Glory|   Carnival| 10|             110.0|     29.74|  9.51| 14.87|            36.99|11.6|\n",
      "|    Holiday|   Carnival| 28|            46.052|     14.52|  7.27|  7.26|            31.72| 6.6|\n",
      "|Imagination|   Carnival| 18|            70.367|     20.52|  8.55|  10.2|            34.29| 9.2|\n",
      "|Inspiration|   Carnival| 17|            70.367|     20.52|  8.55|  10.2|            34.29| 9.2|\n",
      "|     Legend|   Carnival| 11|              86.0|     21.24|  9.63| 10.62|            40.49| 9.3|\n",
      "|   Liberty*|   Carnival|  8|             110.0|     29.74|  9.51| 14.87|            36.99|11.6|\n",
      "|    Miracle|   Carnival|  9|              88.5|     21.24|  9.63| 10.62|            41.67|10.3|\n",
      "|   Paradise|   Carnival| 15|            70.367|     20.52|  8.55|  10.2|            34.29| 9.2|\n",
      "|      Pride|   Carnival| 12|              88.5|     21.24|  9.63| 11.62|            41.67| 9.3|\n",
      "|  Sensation|   Carnival| 20|            70.367|     20.52|  8.55|  10.2|            34.29| 9.2|\n",
      "+-----------+-----------+---+------------------+----------+------+------+-----------------+----+\n",
      "only showing top 20 rows\n",
      "\n"
     ]
    }
   ],
   "source": [
    "# Display the data DataFrame\n",
    "data.show()"
   ]
  },
  {
   "cell_type": "code",
   "execution_count": 7,
   "metadata": {},
   "outputs": [
    {
     "name": "stdout",
     "output_type": "stream",
     "text": [
      "root\n",
      " |-- Ship_name: string (nullable = true)\n",
      " |-- Cruise_line: string (nullable = true)\n",
      " |-- Age: integer (nullable = true)\n",
      " |-- Tonnage: double (nullable = true)\n",
      " |-- passengers: double (nullable = true)\n",
      " |-- length: double (nullable = true)\n",
      " |-- cabins: double (nullable = true)\n",
      " |-- passenger_density: double (nullable = true)\n",
      " |-- crew: double (nullable = true)\n",
      "\n"
     ]
    }
   ],
   "source": [
    "# schema for raw DataFrame\n",
    "data.printSchema()"
   ]
  },
  {
   "cell_type": "markdown",
   "metadata": {},
   "source": [
    "# Using StringIndexer to turn Cruise_line into meaningful numerical data that the model can train on"
   ]
  },
  {
   "cell_type": "code",
   "execution_count": 8,
   "metadata": {},
   "outputs": [
    {
     "name": "stdout",
     "output_type": "stream",
     "text": [
      "+-----------+-----------+---+------------------+----------+------+------+-----------------+----+-----------------+\n",
      "|  Ship_name|Cruise_line|Age|           Tonnage|passengers|length|cabins|passenger_density|crew|Cruise_line_index|\n",
      "+-----------+-----------+---+------------------+----------+------+------+-----------------+----+-----------------+\n",
      "|    Journey|    Azamara|  6|30.276999999999997|      6.94|  5.94|  3.55|            42.64|3.55|             16.0|\n",
      "|      Quest|    Azamara|  6|30.276999999999997|      6.94|  5.94|  3.55|            42.64|3.55|             16.0|\n",
      "|Celebration|   Carnival| 26|            47.262|     14.86|  7.22|  7.43|             31.8| 6.7|              1.0|\n",
      "|   Conquest|   Carnival| 11|             110.0|     29.74|  9.53| 14.88|            36.99|19.1|              1.0|\n",
      "|    Destiny|   Carnival| 17|           101.353|     26.42|  8.92| 13.21|            38.36|10.0|              1.0|\n",
      "|    Ecstasy|   Carnival| 22|            70.367|     20.52|  8.55|  10.2|            34.29| 9.2|              1.0|\n",
      "|    Elation|   Carnival| 15|            70.367|     20.52|  8.55|  10.2|            34.29| 9.2|              1.0|\n",
      "|    Fantasy|   Carnival| 23|            70.367|     20.56|  8.55| 10.22|            34.23| 9.2|              1.0|\n",
      "|Fascination|   Carnival| 19|            70.367|     20.52|  8.55|  10.2|            34.29| 9.2|              1.0|\n",
      "|    Freedom|   Carnival|  6|110.23899999999999|      37.0|  9.51| 14.87|            29.79|11.5|              1.0|\n",
      "|      Glory|   Carnival| 10|             110.0|     29.74|  9.51| 14.87|            36.99|11.6|              1.0|\n",
      "|    Holiday|   Carnival| 28|            46.052|     14.52|  7.27|  7.26|            31.72| 6.6|              1.0|\n",
      "|Imagination|   Carnival| 18|            70.367|     20.52|  8.55|  10.2|            34.29| 9.2|              1.0|\n",
      "|Inspiration|   Carnival| 17|            70.367|     20.52|  8.55|  10.2|            34.29| 9.2|              1.0|\n",
      "|     Legend|   Carnival| 11|              86.0|     21.24|  9.63| 10.62|            40.49| 9.3|              1.0|\n",
      "|   Liberty*|   Carnival|  8|             110.0|     29.74|  9.51| 14.87|            36.99|11.6|              1.0|\n",
      "|    Miracle|   Carnival|  9|              88.5|     21.24|  9.63| 10.62|            41.67|10.3|              1.0|\n",
      "|   Paradise|   Carnival| 15|            70.367|     20.52|  8.55|  10.2|            34.29| 9.2|              1.0|\n",
      "|      Pride|   Carnival| 12|              88.5|     21.24|  9.63| 11.62|            41.67| 9.3|              1.0|\n",
      "|  Sensation|   Carnival| 20|            70.367|     20.52|  8.55|  10.2|            34.29| 9.2|              1.0|\n",
      "+-----------+-----------+---+------------------+----------+------+------+-----------------+----+-----------------+\n",
      "only showing top 20 rows\n",
      "\n"
     ]
    }
   ],
   "source": [
    "from pyspark.ml.feature import StringIndexer\n",
    "\n",
    "indexer = StringIndexer(inputCol='Cruise_line', outputCol='Cruise_line_index') \n",
    "\n",
    "indexed = indexer.fit(data).transform(data)\n",
    "indexed.show()"
   ]
  },
  {
   "cell_type": "markdown",
   "metadata": {},
   "source": [
    "# Now the Cruise_line_index will be taken into account as a `feature` when creating the Linear Regression Model: \n",
    "- `The client also mentioned that they have found that particular cruise lines will differ in acceptable crew counts, so it is most likely an important feature to include in your analysis! `\n",
    "\n",
    "# Now moving on to just creating a model that can predict number of crew members using all the feature data"
   ]
  },
  {
   "cell_type": "code",
   "execution_count": 9,
   "metadata": {},
   "outputs": [
    {
     "name": "stdout",
     "output_type": "stream",
     "text": [
      "+-----------+-----------+---+------------------+----------+------+------+-----------------+----+-----------------+\n",
      "|  Ship_name|Cruise_line|Age|           Tonnage|passengers|length|cabins|passenger_density|crew|Cruise_line_index|\n",
      "+-----------+-----------+---+------------------+----------+------+------+-----------------+----+-----------------+\n",
      "|    Journey|    Azamara|  6|30.276999999999997|      6.94|  5.94|  3.55|            42.64|3.55|             16.0|\n",
      "|      Quest|    Azamara|  6|30.276999999999997|      6.94|  5.94|  3.55|            42.64|3.55|             16.0|\n",
      "|Celebration|   Carnival| 26|            47.262|     14.86|  7.22|  7.43|             31.8| 6.7|              1.0|\n",
      "|   Conquest|   Carnival| 11|             110.0|     29.74|  9.53| 14.88|            36.99|19.1|              1.0|\n",
      "|    Destiny|   Carnival| 17|           101.353|     26.42|  8.92| 13.21|            38.36|10.0|              1.0|\n",
      "|    Ecstasy|   Carnival| 22|            70.367|     20.52|  8.55|  10.2|            34.29| 9.2|              1.0|\n",
      "|    Elation|   Carnival| 15|            70.367|     20.52|  8.55|  10.2|            34.29| 9.2|              1.0|\n",
      "|    Fantasy|   Carnival| 23|            70.367|     20.56|  8.55| 10.22|            34.23| 9.2|              1.0|\n",
      "|Fascination|   Carnival| 19|            70.367|     20.52|  8.55|  10.2|            34.29| 9.2|              1.0|\n",
      "|    Freedom|   Carnival|  6|110.23899999999999|      37.0|  9.51| 14.87|            29.79|11.5|              1.0|\n",
      "|      Glory|   Carnival| 10|             110.0|     29.74|  9.51| 14.87|            36.99|11.6|              1.0|\n",
      "|    Holiday|   Carnival| 28|            46.052|     14.52|  7.27|  7.26|            31.72| 6.6|              1.0|\n",
      "|Imagination|   Carnival| 18|            70.367|     20.52|  8.55|  10.2|            34.29| 9.2|              1.0|\n",
      "|Inspiration|   Carnival| 17|            70.367|     20.52|  8.55|  10.2|            34.29| 9.2|              1.0|\n",
      "|     Legend|   Carnival| 11|              86.0|     21.24|  9.63| 10.62|            40.49| 9.3|              1.0|\n",
      "|   Liberty*|   Carnival|  8|             110.0|     29.74|  9.51| 14.87|            36.99|11.6|              1.0|\n",
      "|    Miracle|   Carnival|  9|              88.5|     21.24|  9.63| 10.62|            41.67|10.3|              1.0|\n",
      "|   Paradise|   Carnival| 15|            70.367|     20.52|  8.55|  10.2|            34.29| 9.2|              1.0|\n",
      "|      Pride|   Carnival| 12|              88.5|     21.24|  9.63| 11.62|            41.67| 9.3|              1.0|\n",
      "|  Sensation|   Carnival| 20|            70.367|     20.52|  8.55|  10.2|            34.29| 9.2|              1.0|\n",
      "+-----------+-----------+---+------------------+----------+------+------+-----------------+----+-----------------+\n",
      "only showing top 20 rows\n",
      "\n"
     ]
    }
   ],
   "source": [
    "indexed.show()"
   ]
  },
  {
   "cell_type": "code",
   "execution_count": 10,
   "metadata": {},
   "outputs": [
    {
     "name": "stdout",
     "output_type": "stream",
     "text": [
      "Journey\n",
      "Azamara\n",
      "6\n",
      "30.276999999999997\n",
      "6.94\n",
      "5.94\n",
      "3.55\n",
      "42.64\n",
      "3.55\n",
      "16.0\n"
     ]
    }
   ],
   "source": [
    "for item in indexed.head():\n",
    "    print(item)"
   ]
  },
  {
   "cell_type": "code",
   "execution_count": 11,
   "metadata": {},
   "outputs": [],
   "source": [
    "# Assemble the features into a `feature` column:\n",
    "from pyspark.ml.linalg import Vectors\n",
    "from pyspark.ml.feature import VectorAssembler"
   ]
  },
  {
   "cell_type": "code",
   "execution_count": 12,
   "metadata": {},
   "outputs": [
    {
     "data": {
      "text/plain": [
       "['Ship_name',\n",
       " 'Cruise_line',\n",
       " 'Age',\n",
       " 'Tonnage',\n",
       " 'passengers',\n",
       " 'length',\n",
       " 'cabins',\n",
       " 'passenger_density',\n",
       " 'crew',\n",
       " 'Cruise_line_index']"
      ]
     },
     "execution_count": 12,
     "metadata": {},
     "output_type": "execute_result"
    }
   ],
   "source": [
    "indexed.columns"
   ]
  },
  {
   "cell_type": "code",
   "execution_count": 13,
   "metadata": {},
   "outputs": [],
   "source": [
    "assembler = VectorAssembler(\n",
    "    inputCols=[\"Age\", \"Tonnage\", \"passengers\", \"length\",'cabins', 'passenger_density', 'Cruise_line_index'],\n",
    "    outputCol=\"features\")"
   ]
  },
  {
   "cell_type": "code",
   "execution_count": 14,
   "metadata": {},
   "outputs": [],
   "source": [
    "output = assembler.transform(indexed)"
   ]
  },
  {
   "cell_type": "code",
   "execution_count": 15,
   "metadata": {},
   "outputs": [
    {
     "name": "stdout",
     "output_type": "stream",
     "text": [
      "root\n",
      " |-- Ship_name: string (nullable = true)\n",
      " |-- Cruise_line: string (nullable = true)\n",
      " |-- Age: integer (nullable = true)\n",
      " |-- Tonnage: double (nullable = true)\n",
      " |-- passengers: double (nullable = true)\n",
      " |-- length: double (nullable = true)\n",
      " |-- cabins: double (nullable = true)\n",
      " |-- passenger_density: double (nullable = true)\n",
      " |-- crew: double (nullable = true)\n",
      " |-- Cruise_line_index: double (nullable = false)\n",
      " |-- features: vector (nullable = true)\n",
      "\n"
     ]
    }
   ],
   "source": [
    "output.printSchema()"
   ]
  },
  {
   "cell_type": "code",
   "execution_count": 16,
   "metadata": {},
   "outputs": [
    {
     "data": {
      "text/plain": [
       "Row(Ship_name='Journey', Cruise_line='Azamara', Age=6, Tonnage=30.276999999999997, passengers=6.94, length=5.94, cabins=3.55, passenger_density=42.64, crew=3.55, Cruise_line_index=16.0, features=DenseVector([6.0, 30.277, 6.94, 5.94, 3.55, 42.64, 16.0]))"
      ]
     },
     "execution_count": 16,
     "metadata": {},
     "output_type": "execute_result"
    }
   ],
   "source": [
    "output.head()"
   ]
  },
  {
   "cell_type": "code",
   "execution_count": 17,
   "metadata": {},
   "outputs": [],
   "source": [
    "final_data = output.select(['features', 'crew'])"
   ]
  },
  {
   "cell_type": "code",
   "execution_count": 18,
   "metadata": {},
   "outputs": [
    {
     "name": "stdout",
     "output_type": "stream",
     "text": [
      "+--------------------+----+\n",
      "|            features|crew|\n",
      "+--------------------+----+\n",
      "|[6.0,30.276999999...|3.55|\n",
      "|[6.0,30.276999999...|3.55|\n",
      "|[26.0,47.262,14.8...| 6.7|\n",
      "|[11.0,110.0,29.74...|19.1|\n",
      "|[17.0,101.353,26....|10.0|\n",
      "|[22.0,70.367,20.5...| 9.2|\n",
      "|[15.0,70.367,20.5...| 9.2|\n",
      "|[23.0,70.367,20.5...| 9.2|\n",
      "|[19.0,70.367,20.5...| 9.2|\n",
      "|[6.0,110.23899999...|11.5|\n",
      "|[10.0,110.0,29.74...|11.6|\n",
      "|[28.0,46.052,14.5...| 6.6|\n",
      "|[18.0,70.367,20.5...| 9.2|\n",
      "|[17.0,70.367,20.5...| 9.2|\n",
      "|[11.0,86.0,21.24,...| 9.3|\n",
      "|[8.0,110.0,29.74,...|11.6|\n",
      "|[9.0,88.5,21.24,9...|10.3|\n",
      "|[15.0,70.367,20.5...| 9.2|\n",
      "|[12.0,88.5,21.24,...| 9.3|\n",
      "|[20.0,70.367,20.5...| 9.2|\n",
      "+--------------------+----+\n",
      "only showing top 20 rows\n",
      "\n"
     ]
    }
   ],
   "source": [
    "final_data.show()"
   ]
  },
  {
   "cell_type": "code",
   "execution_count": 19,
   "metadata": {},
   "outputs": [],
   "source": [
    "# Split final_data into train_data and test_data\n",
    "train_data, test_data = final_data.randomSplit([0.7,0.3])"
   ]
  },
  {
   "cell_type": "code",
   "execution_count": 20,
   "metadata": {},
   "outputs": [
    {
     "name": "stdout",
     "output_type": "stream",
     "text": [
      "+-------+-----------------+\n",
      "|summary|             crew|\n",
      "+-------+-----------------+\n",
      "|  count|              108|\n",
      "|   mean|7.916203703703716|\n",
      "| stddev| 3.58009860397612|\n",
      "|    min|             0.59|\n",
      "|    max|             21.0|\n",
      "+-------+-----------------+\n",
      "\n"
     ]
    }
   ],
   "source": [
    "train_data.describe().show()"
   ]
  },
  {
   "cell_type": "code",
   "execution_count": 21,
   "metadata": {},
   "outputs": [
    {
     "name": "stdout",
     "output_type": "stream",
     "text": [
      "+-------+------------------+\n",
      "|summary|              crew|\n",
      "+-------+------------------+\n",
      "|  count|                50|\n",
      "|   mean|7.5306000000000015|\n",
      "| stddev|3.3520370961368475|\n",
      "|    min|               0.6|\n",
      "|    max|              13.6|\n",
      "+-------+------------------+\n",
      "\n"
     ]
    }
   ],
   "source": [
    "test_data.describe().show()"
   ]
  },
  {
   "cell_type": "code",
   "execution_count": 22,
   "metadata": {},
   "outputs": [],
   "source": [
    "# Create LinearRegression Object\n",
    "lr = LinearRegression(labelCol='crew')"
   ]
  },
  {
   "cell_type": "code",
   "execution_count": 23,
   "metadata": {},
   "outputs": [],
   "source": [
    "# Create LinearRegression Model and then train it using LinearRegression object with train_data as the data.\n",
    "lr_model = lr.fit(train_data)"
   ]
  },
  {
   "cell_type": "markdown",
   "metadata": {},
   "source": [
    "# Evaluating model against the test_data (allows us to see how accurate the model is)"
   ]
  },
  {
   "cell_type": "code",
   "execution_count": 24,
   "metadata": {},
   "outputs": [],
   "source": [
    "# Evaluate the model with test_data\n",
    "test_results = lr_model.evaluate(test_data)"
   ]
  },
  {
   "cell_type": "code",
   "execution_count": 25,
   "metadata": {},
   "outputs": [
    {
     "name": "stdout",
     "output_type": "stream",
     "text": [
      "+--------------------+\n",
      "|           residuals|\n",
      "+--------------------+\n",
      "|  0.1296488656231567|\n",
      "| -0.6395528043074972|\n",
      "| -0.6395528043074972|\n",
      "| 0.24046138433411812|\n",
      "| -0.5711083299991895|\n",
      "| 0.17523773185200042|\n",
      "| -0.5334417775334916|\n",
      "|  0.4520161969583576|\n",
      "| 0.16362885365125024|\n",
      "| -0.3306717199948661|\n",
      "| -0.6661718004998676|\n",
      "|-0.21172490619813544|\n",
      "|-0.43469849144301875|\n",
      "|  0.7685648224555717|\n",
      "|   0.847001545794452|\n",
      "| 0.19201403446725018|\n",
      "|  0.2073003496736021|\n",
      "| -0.3880670668951334|\n",
      "|-0.23872526289117246|\n",
      "|  0.7645380510074222|\n",
      "+--------------------+\n",
      "only showing top 20 rows\n",
      "\n"
     ]
    }
   ],
   "source": [
    "# Show residuals from test_results.\n",
    "test_results.residuals.show()"
   ]
  },
  {
   "cell_type": "code",
   "execution_count": 26,
   "metadata": {},
   "outputs": [
    {
     "data": {
      "text/plain": [
       "0.6215463559839005"
      ]
     },
     "execution_count": 26,
     "metadata": {},
     "output_type": "execute_result"
    }
   ],
   "source": [
    "test_results.rootMeanSquaredError"
   ]
  },
  {
   "cell_type": "code",
   "execution_count": 27,
   "metadata": {},
   "outputs": [
    {
     "data": {
      "text/plain": [
       "0.9649164654121274"
      ]
     },
     "execution_count": 27,
     "metadata": {},
     "output_type": "execute_result"
    }
   ],
   "source": [
    "test_results.r2"
   ]
  },
  {
   "cell_type": "markdown",
   "metadata": {},
   "source": [
    "# Testing model prediction on simulated Unlabeled Data Set (To see the predictions that the model generates):"
   ]
  },
  {
   "cell_type": "code",
   "execution_count": 28,
   "metadata": {},
   "outputs": [],
   "source": [
    "unlabeled_data = test_data.select('features')"
   ]
  },
  {
   "cell_type": "code",
   "execution_count": 29,
   "metadata": {},
   "outputs": [
    {
     "name": "stdout",
     "output_type": "stream",
     "text": [
      "+--------------------+\n",
      "|            features|\n",
      "+--------------------+\n",
      "|[5.0,115.0,35.74,...|\n",
      "|[6.0,30.276999999...|\n",
      "|[6.0,30.276999999...|\n",
      "|[6.0,110.23899999...|\n",
      "|[6.0,112.0,38.0,9...|\n",
      "|[6.0,113.0,37.82,...|\n",
      "|[6.0,158.0,43.7,1...|\n",
      "|[8.0,77.499,19.5,...|\n",
      "|[10.0,77.0,20.16,...|\n",
      "|[10.0,90.09,25.01...|\n",
      "|[10.0,105.0,27.2,...|\n",
      "|[11.0,86.0,21.24,...|\n",
      "|[11.0,90.09,25.01...|\n",
      "|[11.0,91.0,20.32,...|\n",
      "|[11.0,108.977,26....|\n",
      "|[12.0,2.329,0.94,...|\n",
      "|[12.0,42.0,14.8,7...|\n",
      "|[12.0,58.6,15.66,...|\n",
      "|[12.0,90.09,25.01...|\n",
      "|[12.0,91.0,20.32,...|\n",
      "+--------------------+\n",
      "only showing top 20 rows\n",
      "\n"
     ]
    }
   ],
   "source": [
    "unlabeled_data.show()"
   ]
  },
  {
   "cell_type": "code",
   "execution_count": 30,
   "metadata": {},
   "outputs": [],
   "source": [
    "predictions = lr_model.transform(unlabeled_data)"
   ]
  },
  {
   "cell_type": "code",
   "execution_count": 31,
   "metadata": {
    "scrolled": true
   },
   "outputs": [
    {
     "name": "stdout",
     "output_type": "stream",
     "text": [
      "+---------------------------------------------------+------------------+\n",
      "|features                                           |prediction        |\n",
      "+---------------------------------------------------+------------------+\n",
      "|[5.0,115.0,35.74,9.0,15.32,32.18,9.0]              |12.070351134376843|\n",
      "|[6.0,30.276999999999997,6.94,5.94,3.55,42.64,16.0] |4.189552804307497 |\n",
      "|[6.0,30.276999999999997,6.94,5.94,3.55,42.64,16.0] |4.189552804307497 |\n",
      "|[6.0,110.23899999999999,37.0,9.51,14.87,29.79,1.0] |11.259538615665882|\n",
      "|[6.0,112.0,38.0,9.51,15.0,29.47,5.0]               |11.47110832999919 |\n",
      "|[6.0,113.0,37.82,9.51,15.57,29.88,2.0]             |11.824762268148   |\n",
      "|[6.0,158.0,43.7,11.25,18.0,36.16,0.0]              |14.133441777533491|\n",
      "|[8.0,77.499,19.5,8.56,9.75,39.74,2.0]              |8.547983803041642 |\n",
      "|[10.0,77.0,20.16,8.56,9.75,38.19,9.0]              |8.83637114634875  |\n",
      "|[10.0,90.09,25.01,9.62,10.5,36.02,0.0]             |8.910671719994866 |\n",
      "|[10.0,105.0,27.2,8.9,13.56,38.6,5.0]               |11.346171800499867|\n",
      "|[11.0,86.0,21.24,9.63,10.62,40.49,1.0]             |9.511724906198136 |\n",
      "|[11.0,90.09,25.01,9.62,10.5,36.02,0.0]             |8.91469849144302  |\n",
      "|[11.0,91.0,20.32,9.65,9.75,44.78,6.0]              |9.221435177544429 |\n",
      "|[11.0,108.977,26.02,9.51,13.01,41.88,2.0]          |11.152998454205548|\n",
      "|[12.0,2.329,0.94,2.96,0.45,24.78,6.0]              |0.4079859655327498|\n",
      "|[12.0,42.0,14.8,7.13,7.4,28.38,8.0]                |6.592699650326398 |\n",
      "|[12.0,58.6,15.66,8.24,7.83,37.42,7.0]              |7.388067066895133 |\n",
      "|[12.0,90.09,25.01,9.62,10.5,36.02,0.0]             |8.918725262891172 |\n",
      "|[12.0,91.0,20.32,9.65,9.75,44.78,6.0]              |9.225461948992578 |\n",
      "|[12.0,138.0,31.14,10.2,15.57,44.32,0.0]            |13.109314899597308|\n",
      "|[13.0,61.0,13.8,7.8,6.88,44.2,3.0]                 |6.478643608438386 |\n",
      "|[13.0,85.619,21.14,9.57,10.56,40.5,5.0]            |9.666717839279872 |\n",
      "|[13.0,91.0,20.32,9.65,9.75,44.78,6.0]              |9.229488720440731 |\n",
      "|[13.0,138.0,31.14,10.2,15.57,44.32,0.0]            |13.113341671045461|\n",
      "|[14.0,30.276999999999997,6.88,5.93,3.44,44.01,2.0] |3.394354948033171 |\n",
      "|[14.0,101.509,27.58,8.93,13.21,36.81,1.0]          |10.78402075493609 |\n",
      "|[14.0,138.0,31.14,10.2,15.57,44.32,0.0]            |13.117368442493614|\n",
      "|[15.0,30.276999999999997,6.84,5.94,3.42,44.26,12.0]|3.9191462515773674|\n",
      "|[15.0,70.367,20.52,8.55,10.2,34.29,1.0]            |8.69384390018358  |\n",
      "|[16.0,74.137,19.5,9.16,9.75,38.02,0.0]             |8.668600582202888 |\n",
      "|[16.0,77.499,19.5,8.56,10.5,39.74,2.0]             |9.21077826109758  |\n",
      "|[16.0,78.491,24.35,9.15,10.0,32.23,0.0]            |8.300614127506943 |\n",
      "|[17.0,70.367,20.52,8.55,10.2,34.29,1.0]            |8.701897443079883 |\n",
      "|[19.0,16.8,2.96,5.14,1.48,56.76,11.0]              |2.3139192742930095|\n",
      "|[19.0,16.8,2.96,5.14,1.48,56.76,11.0]              |2.3139192742930095|\n",
      "|[21.0,38.0,10.56,5.67,5.28,35.98,4.0]              |4.580746145235469 |\n",
      "|[21.0,73.941,27.44,8.8,11.75,26.95,0.0]            |9.21894252049977  |\n",
      "|[22.0,73.941,27.44,8.8,11.77,30.94,0.0]            |9.243300673750664 |\n",
      "|[24.0,10.0,2.08,4.4,1.04,48.08,13.0]               |1.823874066501304 |\n",
      "|[25.0,34.25,10.52,6.15,5.26,32.56,4.0]             |4.728094044636961 |\n",
      "|[25.0,42.0,15.04,7.08,7.52,27.93,4.0]              |6.484778901573136 |\n",
      "|[26.0,47.262,14.86,7.22,7.43,31.8,1.0]             |6.386086595149404 |\n",
      "|[27.0,12.5,3.94,4.36,0.88,31.73,10.0]              |1.3031039001241793|\n",
      "|[27.0,53.872,14.94,7.98,7.67,36.06,5.0]            |7.152084351169383 |\n",
      "|[29.0,33.92,12.14,7.04,6.07,27.94,3.0]             |5.499960107786931 |\n",
      "|[29.0,44.348,12.0,7.54,6.0,36.96,2.0]              |5.707564193942266 |\n",
      "|[36.0,16.852,9.52,5.41,3.83,17.7,7.0]              |3.3877184018849382|\n",
      "|[44.0,70.327,17.91,9.63,9.5,39.27,15.0]            |9.707339932246928 |\n",
      "|[48.0,22.08,8.26,5.78,4.25,26.73,19.0]             |4.783127129604424 |\n",
      "+---------------------------------------------------+------------------+\n",
      "\n"
     ]
    }
   ],
   "source": [
    "# Show full values of columns and showing 50 rows of our Models predictions on the Unlabeled Test Data\n",
    "predictions.show(50, False)"
   ]
  },
  {
   "cell_type": "code",
   "execution_count": 32,
   "metadata": {
    "scrolled": true
   },
   "outputs": [
    {
     "name": "stdout",
     "output_type": "stream",
     "text": [
      "+---------------------------------------------------+-----+\n",
      "|features                                           |crew |\n",
      "+---------------------------------------------------+-----+\n",
      "|[5.0,115.0,35.74,9.0,15.32,32.18,9.0]              |12.2 |\n",
      "|[6.0,30.276999999999997,6.94,5.94,3.55,42.64,16.0] |3.55 |\n",
      "|[6.0,30.276999999999997,6.94,5.94,3.55,42.64,16.0] |3.55 |\n",
      "|[6.0,110.23899999999999,37.0,9.51,14.87,29.79,1.0] |11.5 |\n",
      "|[6.0,112.0,38.0,9.51,15.0,29.47,5.0]               |10.9 |\n",
      "|[6.0,113.0,37.82,9.51,15.57,29.88,2.0]             |12.0 |\n",
      "|[6.0,158.0,43.7,11.25,18.0,36.16,0.0]              |13.6 |\n",
      "|[8.0,77.499,19.5,8.56,9.75,39.74,2.0]              |9.0  |\n",
      "|[10.0,77.0,20.16,8.56,9.75,38.19,9.0]              |9.0  |\n",
      "|[10.0,90.09,25.01,9.62,10.5,36.02,0.0]             |8.58 |\n",
      "|[10.0,105.0,27.2,8.9,13.56,38.6,5.0]               |10.68|\n",
      "|[11.0,86.0,21.24,9.63,10.62,40.49,1.0]             |9.3  |\n",
      "|[11.0,90.09,25.01,9.62,10.5,36.02,0.0]             |8.48 |\n",
      "|[11.0,91.0,20.32,9.65,9.75,44.78,6.0]              |9.99 |\n",
      "|[11.0,108.977,26.02,9.51,13.01,41.88,2.0]          |12.0 |\n",
      "|[12.0,2.329,0.94,2.96,0.45,24.78,6.0]              |0.6  |\n",
      "|[12.0,42.0,14.8,7.13,7.4,28.38,8.0]                |6.8  |\n",
      "|[12.0,58.6,15.66,8.24,7.83,37.42,7.0]              |7.0  |\n",
      "|[12.0,90.09,25.01,9.62,10.5,36.02,0.0]             |8.68 |\n",
      "|[12.0,91.0,20.32,9.65,9.75,44.78,6.0]              |9.99 |\n",
      "|[12.0,138.0,31.14,10.2,15.57,44.32,0.0]            |11.85|\n",
      "|[13.0,61.0,13.8,7.8,6.88,44.2,3.0]                 |6.0  |\n",
      "|[13.0,85.619,21.14,9.57,10.56,40.5,5.0]            |9.2  |\n",
      "|[13.0,91.0,20.32,9.65,9.75,44.78,6.0]              |9.99 |\n",
      "|[13.0,138.0,31.14,10.2,15.57,44.32,0.0]            |11.76|\n",
      "|[14.0,30.276999999999997,6.88,5.93,3.44,44.01,2.0] |3.73 |\n",
      "|[14.0,101.509,27.58,8.93,13.21,36.81,1.0]          |10.0 |\n",
      "|[14.0,138.0,31.14,10.2,15.57,44.32,0.0]            |11.76|\n",
      "|[15.0,30.276999999999997,6.84,5.94,3.42,44.26,12.0]|4.0  |\n",
      "|[15.0,70.367,20.52,8.55,10.2,34.29,1.0]            |9.2  |\n",
      "|[16.0,74.137,19.5,9.16,9.75,38.02,0.0]             |7.6  |\n",
      "|[16.0,77.499,19.5,8.56,10.5,39.74,2.0]             |9.0  |\n",
      "|[16.0,78.491,24.35,9.15,10.0,32.23,0.0]            |7.65 |\n",
      "|[17.0,70.367,20.52,8.55,10.2,34.29,1.0]            |9.2  |\n",
      "|[19.0,16.8,2.96,5.14,1.48,56.76,11.0]              |1.97 |\n",
      "|[19.0,16.8,2.96,5.14,1.48,56.76,11.0]              |2.1  |\n",
      "|[21.0,38.0,10.56,5.67,5.28,35.98,4.0]              |4.38 |\n",
      "|[21.0,73.941,27.44,8.8,11.75,26.95,0.0]            |8.22 |\n",
      "|[22.0,73.941,27.44,8.8,11.77,30.94,0.0]            |8.22 |\n",
      "|[24.0,10.0,2.08,4.4,1.04,48.08,13.0]               |1.6  |\n",
      "|[25.0,34.25,10.52,6.15,5.26,32.56,4.0]             |4.7  |\n",
      "|[25.0,42.0,15.04,7.08,7.52,27.93,4.0]              |6.3  |\n",
      "|[26.0,47.262,14.86,7.22,7.43,31.8,1.0]             |6.7  |\n",
      "|[27.0,12.5,3.94,4.36,0.88,31.73,10.0]              |1.46 |\n",
      "|[27.0,53.872,14.94,7.98,7.67,36.06,5.0]            |6.36 |\n",
      "|[29.0,33.92,12.14,7.04,6.07,27.94,3.0]             |5.3  |\n",
      "|[29.0,44.348,12.0,7.54,6.0,36.96,2.0]              |5.2  |\n",
      "|[36.0,16.852,9.52,5.41,3.83,17.7,7.0]              |2.97 |\n",
      "|[44.0,70.327,17.91,9.63,9.5,39.27,15.0]            |9.21 |\n",
      "|[48.0,22.08,8.26,5.78,4.25,26.73,19.0]             |3.5  |\n",
      "+---------------------------------------------------+-----+\n",
      "\n"
     ]
    }
   ],
   "source": [
    "# Show full values of columns and showing 50 rows of the actual crew data from the original Test Data\n",
    "test_data.show(50, False)"
   ]
  },
  {
   "cell_type": "code",
   "execution_count": 33,
   "metadata": {},
   "outputs": [
    {
     "name": "stdout",
     "output_type": "stream",
     "text": [
      "+-------+------------------+\n",
      "|summary|        prediction|\n",
      "+-------+------------------+\n",
      "|  count|                50|\n",
      "|   mean|7.7827198818171475|\n",
      "| stddev|3.4000908917338006|\n",
      "|    min|0.4079859655327498|\n",
      "|    max|14.133441777533491|\n",
      "+-------+------------------+\n",
      "\n"
     ]
    }
   ],
   "source": [
    "predictions.describe().show()"
   ]
  },
  {
   "cell_type": "code",
   "execution_count": 34,
   "metadata": {},
   "outputs": [
    {
     "name": "stdout",
     "output_type": "stream",
     "text": [
      "+-------+------------------+\n",
      "|summary|              crew|\n",
      "+-------+------------------+\n",
      "|  count|                50|\n",
      "|   mean|7.5306000000000015|\n",
      "| stddev|3.3520370961368475|\n",
      "|    min|               0.6|\n",
      "|    max|              13.6|\n",
      "+-------+------------------+\n",
      "\n"
     ]
    }
   ],
   "source": [
    "test_data.describe().show()"
   ]
  },
  {
   "cell_type": "markdown",
   "metadata": {},
   "source": [
    "# Checking data further"
   ]
  },
  {
   "cell_type": "code",
   "execution_count": 35,
   "metadata": {},
   "outputs": [],
   "source": [
    "from pyspark.sql.functions import corr"
   ]
  },
  {
   "cell_type": "code",
   "execution_count": 36,
   "metadata": {},
   "outputs": [
    {
     "name": "stdout",
     "output_type": "stream",
     "text": [
      "+----------------------+\n",
      "|corr(crew, passengers)|\n",
      "+----------------------+\n",
      "|    0.9152341306065384|\n",
      "+----------------------+\n",
      "\n"
     ]
    }
   ],
   "source": [
    "data.select(corr('crew','passengers')).show()"
   ]
  },
  {
   "cell_type": "code",
   "execution_count": 37,
   "metadata": {},
   "outputs": [
    {
     "name": "stdout",
     "output_type": "stream",
     "text": [
      "+------------------+\n",
      "|corr(crew, cabins)|\n",
      "+------------------+\n",
      "|0.9508226063578497|\n",
      "+------------------+\n",
      "\n"
     ]
    }
   ],
   "source": [
    "data.select(corr('crew','cabins')).show()"
   ]
  }
 ],
 "metadata": {
  "anaconda-cloud": {},
  "kernelspec": {
   "display_name": "Python 3",
   "language": "python",
   "name": "python3"
  },
  "language_info": {
   "codemirror_mode": {
    "name": "ipython",
    "version": 3
   },
   "file_extension": ".py",
   "mimetype": "text/x-python",
   "name": "python",
   "nbconvert_exporter": "python",
   "pygments_lexer": "ipython3",
   "version": "3.6.9"
  }
 },
 "nbformat": 4,
 "nbformat_minor": 4
}
